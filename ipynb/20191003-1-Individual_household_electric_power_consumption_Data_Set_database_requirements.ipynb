{
 "cells": [
  {
   "cell_type": "code",
   "execution_count": null,
   "metadata": {},
   "outputs": [],
   "source": [
    "from os import chdir\n",
    "chdir('/home/jovyan')"
   ]
  },
  {
   "cell_type": "markdown",
   "metadata": {},
   "source": [
    "# 1. [Individual household electric power consumption Data Set](https://archive.ics.uci.edu/ml/datasets/individual+household+electric+power+consumption)\n",
    "\n",
    "### Abstract \n",
    "\n",
    "Measurements of electric power consumption in one household with a one-minute sampling rate over a period of almost 4 years. Different electrical quantities and some sub-metering values are available.\n",
    "\n",
    "Property | Description\n",
    ":---: | :--- \n",
    "Type | Multivariate, Time-Series\n",
    "Area | Physical\n",
    "Attribute Characteristics | Real\n",
    "Number of Attributes | 9\n",
    "Date Donated | 2012-08-30\n",
    "Associated Tasks | Regression, Clustering\n",
    "Missing Values | Yes\n",
    "\n",
    "### Source\n",
    "\n",
    "Georges Hebrail (georges.hebrail '@' edf.fr), Senior Researcher, EDF R&D, Clamart, France\n",
    "Alice Berard, TELECOM ParisTech Master of Engineering Internship at EDF R&D, Clamart, France\n",
    "\n",
    "\n",
    "### Data Set Information\n",
    "\n",
    "This archive contains **2075259 measurements** gathered in a house located in Sceaux (7km of Paris, France) between December 2006 and November 2010 (47 months).\n",
    "\n",
    "#### **Notes**:\n",
    "\n",
    "1. (global_active_power*1000/60 - sub_metering_1 - sub_metering_2 - sub_metering_3) represents the active energy consumed every minute (in watt hour) in the household by electrical equipment not measured in sub-meterings 1, 2 and 3.\n",
    "\n",
    "\n",
    "2. The dataset contains some missing values in the measurements (nearly 1,25% of the rows). All calendar timestamps are present in the dataset but for some timestamps, the measurement values are missing: a missing value is represented by the absence of value between two consecutive semi-colon attribute separators. For instance, the dataset shows missing values on April 28, 2007.\n",
    "\n",
    "\n",
    "\n",
    "Attribute | Information\n",
    ":---: | :---\n",
    "date | Date in format dd/mm/yyyy\n",
    "time | time in format hh:mm:ss\n",
    "global_active_power | household global minute-averaged active power (in kilowatt)\n",
    "global_reactive_power | household global minute-averaged reactive power (in kilowatt)\n",
    "voltage | minute-averaged voltage (in volt)\n",
    "global_intensity | household global minute-averaged current intensity (in ampere)\n",
    "sub_metering_1 | energy sub-metering No. 1 (in watt-hour of active energy). It corresponds to the kitchen, containing mainly a dishwasher, an oven and a microwave (hot plates are not electric but gas powered).\n",
    "sub_metering_2 | energy sub-metering No. 2 (in watt-hour of active energy). It corresponds to the laundry room, containing a washing-machine, a tumble-drier, a refrigerator and a light.\n",
    "sub_metering_3 | energy sub-metering No. 3 (in watt-hour of active energy). It corresponds to an electric water-heater and an air-conditioner.\n"
   ]
  },
  {
   "cell_type": "markdown",
   "metadata": {},
   "source": [
    "## 1.1. Download and unzip data"
   ]
  },
  {
   "cell_type": "code",
   "execution_count": 2,
   "metadata": {},
   "outputs": [
    {
     "name": "stdout",
     "output_type": "stream",
     "text": [
      "--2019-10-08 18:25:02--  https://archive.ics.uci.edu/ml/machine-learning-databases/00235/household_power_consumption.zip\n",
      "Resolving archive.ics.uci.edu (archive.ics.uci.edu)... 128.195.10.252\n",
      "Connecting to archive.ics.uci.edu (archive.ics.uci.edu)|128.195.10.252|:443... connected.\n",
      "HTTP request sent, awaiting response... 200 OK\n",
      "Length: 20640916 (20M) [application/x-httpd-php]\n",
      "Saving to: ‘data/household_power_consumption.zip’\n",
      "\n",
      "household_power_con 100%[===================>]  19.68M  13.3MB/s    in 1.5s    \n",
      "\n",
      "2019-10-08 18:25:04 (13.3 MB/s) - ‘data/household_power_consumption.zip’ saved [20640916/20640916]\n",
      "\n"
     ]
    }
   ],
   "source": [
    "!wget -P data/ \\\n",
    "https://archive.ics.uci.edu/ml/machine-learning-databases/00235/household_power_consumption.zip"
   ]
  },
  {
   "cell_type": "code",
   "execution_count": 3,
   "metadata": {},
   "outputs": [
    {
     "name": "stdout",
     "output_type": "stream",
     "text": [
      "Archive:  data/household_power_consumption.zip\n",
      "  inflating: data/household_power_consumption.txt  \n"
     ]
    }
   ],
   "source": [
    "%%bash\n",
    "unzip -u data/household_power_consumption.zip -d data/\n",
    "rm -rf data/*.zip*\n",
    "sed '/^\\s*$/d' data/household_power_consumption.txt > data/household_power_consumption.csv\n",
    "rm -rf data/*.txt"
   ]
  },
  {
   "cell_type": "markdown",
   "metadata": {},
   "source": [
    "## 1.2. Check Dataset Schema"
   ]
  },
  {
   "cell_type": "code",
   "execution_count": 4,
   "metadata": {},
   "outputs": [
    {
     "name": "stderr",
     "output_type": "stream",
     "text": [
      "/opt/conda/lib/python3.7/site-packages/IPython/core/interactiveshell.py:3058: DtypeWarning: Columns (2,3,4,5,6,7) have mixed types. Specify dtype option on import or set low_memory=False.\n",
      "  interactivity=interactivity, compiler=compiler, result=result)\n"
     ]
    }
   ],
   "source": [
    "import pandas as pd\n",
    "\n",
    "dataset = pd.read_csv('data/household_power_consumption.csv',\n",
    "                      sep=\";\")"
   ]
  },
  {
   "cell_type": "code",
   "execution_count": 5,
   "metadata": {},
   "outputs": [
    {
     "data": {
      "text/html": [
       "<div>\n",
       "<style scoped>\n",
       "    .dataframe tbody tr th:only-of-type {\n",
       "        vertical-align: middle;\n",
       "    }\n",
       "\n",
       "    .dataframe tbody tr th {\n",
       "        vertical-align: top;\n",
       "    }\n",
       "\n",
       "    .dataframe thead th {\n",
       "        text-align: right;\n",
       "    }\n",
       "</style>\n",
       "<table border=\"1\" class=\"dataframe\">\n",
       "  <thead>\n",
       "    <tr style=\"text-align: right;\">\n",
       "      <th></th>\n",
       "      <th>Date</th>\n",
       "      <th>Time</th>\n",
       "      <th>Global_active_power</th>\n",
       "      <th>Global_reactive_power</th>\n",
       "      <th>Voltage</th>\n",
       "      <th>Global_intensity</th>\n",
       "      <th>Sub_metering_1</th>\n",
       "      <th>Sub_metering_2</th>\n",
       "      <th>Sub_metering_3</th>\n",
       "    </tr>\n",
       "  </thead>\n",
       "  <tbody>\n",
       "    <tr>\n",
       "      <td>0</td>\n",
       "      <td>16/12/2006</td>\n",
       "      <td>17:24:00</td>\n",
       "      <td>4.216</td>\n",
       "      <td>0.418</td>\n",
       "      <td>234.840</td>\n",
       "      <td>18.400</td>\n",
       "      <td>0.000</td>\n",
       "      <td>1.000</td>\n",
       "      <td>17.0</td>\n",
       "    </tr>\n",
       "    <tr>\n",
       "      <td>1</td>\n",
       "      <td>16/12/2006</td>\n",
       "      <td>17:25:00</td>\n",
       "      <td>5.360</td>\n",
       "      <td>0.436</td>\n",
       "      <td>233.630</td>\n",
       "      <td>23.000</td>\n",
       "      <td>0.000</td>\n",
       "      <td>1.000</td>\n",
       "      <td>16.0</td>\n",
       "    </tr>\n",
       "    <tr>\n",
       "      <td>2</td>\n",
       "      <td>16/12/2006</td>\n",
       "      <td>17:26:00</td>\n",
       "      <td>5.374</td>\n",
       "      <td>0.498</td>\n",
       "      <td>233.290</td>\n",
       "      <td>23.000</td>\n",
       "      <td>0.000</td>\n",
       "      <td>2.000</td>\n",
       "      <td>17.0</td>\n",
       "    </tr>\n",
       "    <tr>\n",
       "      <td>3</td>\n",
       "      <td>16/12/2006</td>\n",
       "      <td>17:27:00</td>\n",
       "      <td>5.388</td>\n",
       "      <td>0.502</td>\n",
       "      <td>233.740</td>\n",
       "      <td>23.000</td>\n",
       "      <td>0.000</td>\n",
       "      <td>1.000</td>\n",
       "      <td>17.0</td>\n",
       "    </tr>\n",
       "    <tr>\n",
       "      <td>4</td>\n",
       "      <td>16/12/2006</td>\n",
       "      <td>17:28:00</td>\n",
       "      <td>3.666</td>\n",
       "      <td>0.528</td>\n",
       "      <td>235.680</td>\n",
       "      <td>15.800</td>\n",
       "      <td>0.000</td>\n",
       "      <td>1.000</td>\n",
       "      <td>17.0</td>\n",
       "    </tr>\n",
       "  </tbody>\n",
       "</table>\n",
       "</div>"
      ],
      "text/plain": [
       "         Date      Time Global_active_power Global_reactive_power  Voltage  \\\n",
       "0  16/12/2006  17:24:00               4.216                 0.418  234.840   \n",
       "1  16/12/2006  17:25:00               5.360                 0.436  233.630   \n",
       "2  16/12/2006  17:26:00               5.374                 0.498  233.290   \n",
       "3  16/12/2006  17:27:00               5.388                 0.502  233.740   \n",
       "4  16/12/2006  17:28:00               3.666                 0.528  235.680   \n",
       "\n",
       "  Global_intensity Sub_metering_1 Sub_metering_2  Sub_metering_3  \n",
       "0           18.400          0.000          1.000            17.0  \n",
       "1           23.000          0.000          1.000            16.0  \n",
       "2           23.000          0.000          2.000            17.0  \n",
       "3           23.000          0.000          1.000            17.0  \n",
       "4           15.800          0.000          1.000            17.0  "
      ]
     },
     "execution_count": 5,
     "metadata": {},
     "output_type": "execute_result"
    }
   ],
   "source": [
    "dataset.head()"
   ]
  },
  {
   "cell_type": "code",
   "execution_count": 6,
   "metadata": {},
   "outputs": [
    {
     "data": {
      "text/plain": [
       "Date                      object\n",
       "Time                      object\n",
       "Global_active_power       object\n",
       "Global_reactive_power     object\n",
       "Voltage                   object\n",
       "Global_intensity          object\n",
       "Sub_metering_1            object\n",
       "Sub_metering_2            object\n",
       "Sub_metering_3           float64\n",
       "dtype: object"
      ]
     },
     "execution_count": 6,
     "metadata": {},
     "output_type": "execute_result"
    }
   ],
   "source": [
    "dataset.dtypes"
   ]
  },
  {
   "cell_type": "markdown",
   "metadata": {},
   "source": [
    "CREATE TABLE statement:\n",
    "\n",
    "`\n",
    "CREATE TABLE raw.individual_household_power_consumption (\n",
    "    _id SERIAL PRIMARY KEY,\n",
    "    Date TEXT,\n",
    "    Time TEXT,\n",
    "    Global_active_power TEXT,\n",
    "    Global_reactive_power TEXT,\n",
    "    Voltage TEXT,\n",
    "    Global_intensity TEXT,\n",
    "    Sub_metering_1 TEXT,\n",
    "    Sub_metering_2 TEXT,\n",
    "    Sub_metering_3 TEXT\n",
    ");`"
   ]
  },
  {
   "cell_type": "markdown",
   "metadata": {},
   "source": [
    "## 1.3. Create postgres functions"
   ]
  },
  {
   "cell_type": "code",
   "execution_count": 14,
   "metadata": {},
   "outputs": [],
   "source": [
    "import psycopg2\n",
    "import os\n",
    "import sys\n",
    "from lib import postgres\n",
    "from datetime import datetime"
   ]
  },
  {
   "cell_type": "markdown",
   "metadata": {},
   "source": [
    "### 1.3.1. Function to execute scripts:"
   ]
  },
  {
   "cell_type": "code",
   "execution_count": null,
   "metadata": {},
   "outputs": [],
   "source": [
    "def run_command(command):\n",
    "    conn, cur = postgres.connect_to_postgres()\n",
    "    cur.execute('BEGIN;')\n",
    "    print(cur.execute(command))\n",
    "    cur.execute('COMMIT;')\n",
    "    conn.close()"
   ]
  },
  {
   "cell_type": "code",
   "execution_count": null,
   "metadata": {},
   "outputs": [],
   "source": [
    "cmd = \"\"\"\n",
    "CREATE TABLE raw.individual_household_power_consumption (\n",
    "    _id SERIAL PRIMARY KEY,\n",
    "    Date TEXT,\n",
    "    Time TEXT,\n",
    "    Global_active_power TEXT,\n",
    "    Global_reactive_power TEXT,\n",
    "    Voltage TEXT,\n",
    "    Global_intensity TEXT,\n",
    "    Sub_metering_1 TEXT,\n",
    "    Sub_metering_2 TEXT,\n",
    "    Sub_metering_3 TEXT\n",
    ");\"\"\"\n",
    "\n",
    "run_command(cmd)"
   ]
  },
  {
   "cell_type": "markdown",
   "metadata": {},
   "source": [
    "### 1.3.2. Function to perform bulk_load on Postgres:"
   ]
  },
  {
   "cell_type": "code",
   "execution_count": 41,
   "metadata": {},
   "outputs": [],
   "source": [
    "def bulk_load_df(df, schema, table, temp_path = 'data/tmp/'):\n",
    "    '''\n",
    "    This function creates a csv file from PostgreSQL with query\n",
    "    '''\n",
    "    try:\n",
    "        # Connect to DB\n",
    "        conn, cur = postgres.connect_to_postgres()\n",
    "        print(\"Connecting to Database\")\n",
    "        \n",
    "        if not os.path.exists(temp_path):\n",
    "            os.makedirs(temp_path)\n",
    "        \n",
    "        # Write to CSV file\n",
    "        temp_csv_name = '{}.{}_{}.csv'.format( schema, table, datetime.now() )\n",
    "        temp_csv_path = temp_path + temp_csv_name\n",
    "        df.to_csv(temp_csv_path, encoding='utf-8', header = True, doublequote = True, sep=',', index=False)\n",
    "        print(\"CSV File has been created\")\n",
    "        \n",
    "        # Truncate the target table\n",
    "        cur.execute('BEGIN;')\n",
    "        cur.execute(\"TRUNCATE {}.{};\".format(schema,table))\n",
    "        cur.execute('COMMIT;')\n",
    "        print(\"Truncated {}\".format(table))\n",
    "        \n",
    "        # Load table from the file with header\n",
    "        cur.execute(\"BEGIN;\")\n",
    "        f = open(temp_csv_path, \"r\")\n",
    "        cur.copy_expert(\"COPY {}.{}({}) FROM STDIN CSV HEADER QUOTE '\\\"'\".format(schema,table,','.join(dataset.columns.values)), f)\n",
    "        cur.execute(\"COMMIT;\")\n",
    "        print(\"Loaded data into {}\".format(table))\n",
    "        \n",
    "        # Closing the connection\n",
    "        conn.close()\n",
    "        print(\"DB connection closed.\")\n",
    "        \n",
    "        # Remove temp CSV file\n",
    "        os.remove(temp_csv_path)\n",
    "\n",
    "    except Exception as e:\n",
    "        print(\"Error: {}\".format(str(e)))\n",
    "        sys.exit(1)"
   ]
  },
  {
   "cell_type": "code",
   "execution_count": 42,
   "metadata": {},
   "outputs": [
    {
     "name": "stdout",
     "output_type": "stream",
     "text": [
      "Connecting to Database\n",
      "CSV File has been created\n",
      "Truncated individual_household_power_consumption\n",
      "Loaded data into individual_household_power_consumption\n",
      "DB connection closed.\n"
     ]
    }
   ],
   "source": [
    "bulk_load_df(dataset,'raw','individual_household_power_consumption')"
   ]
  },
  {
   "cell_type": "markdown",
   "metadata": {},
   "source": [
    "### 1.3.3. Function to read SQL querys to pandas DataFrame"
   ]
  },
  {
   "cell_type": "code",
   "execution_count": 43,
   "metadata": {},
   "outputs": [],
   "source": [
    "def load_query_to_df(sql_command):\n",
    "    '''\n",
    "    This function loads the results from a query to a dataframe.\n",
    "    '''\n",
    "    # Connect to DB\n",
    "    conn, cur = postgres.connect_to_postgres()\n",
    "\n",
    "    # Load the data\n",
    "    data = pd.read_sql(sql_command, conn)\n",
    "    conn.close()\n",
    "    \n",
    "    return data"
   ]
  },
  {
   "cell_type": "code",
   "execution_count": null,
   "metadata": {},
   "outputs": [],
   "source": []
  },
  {
   "cell_type": "code",
   "execution_count": 53,
   "metadata": {},
   "outputs": [
    {
     "data": {
      "text/html": [
       "<div>\n",
       "<style scoped>\n",
       "    .dataframe tbody tr th:only-of-type {\n",
       "        vertical-align: middle;\n",
       "    }\n",
       "\n",
       "    .dataframe tbody tr th {\n",
       "        vertical-align: top;\n",
       "    }\n",
       "\n",
       "    .dataframe thead th {\n",
       "        text-align: right;\n",
       "    }\n",
       "</style>\n",
       "<table border=\"1\" class=\"dataframe\">\n",
       "  <thead>\n",
       "    <tr style=\"text-align: right;\">\n",
       "      <th></th>\n",
       "      <th>dt</th>\n",
       "    </tr>\n",
       "  </thead>\n",
       "  <tbody>\n",
       "    <tr>\n",
       "      <td>0</td>\n",
       "      <td>2006-12-16 17:24:00+00:00</td>\n",
       "    </tr>\n",
       "    <tr>\n",
       "      <td>1</td>\n",
       "      <td>2006-12-16 17:25:00+00:00</td>\n",
       "    </tr>\n",
       "    <tr>\n",
       "      <td>2</td>\n",
       "      <td>2006-12-16 17:26:00+00:00</td>\n",
       "    </tr>\n",
       "    <tr>\n",
       "      <td>3</td>\n",
       "      <td>2006-12-16 17:27:00+00:00</td>\n",
       "    </tr>\n",
       "    <tr>\n",
       "      <td>4</td>\n",
       "      <td>2006-12-16 17:28:00+00:00</td>\n",
       "    </tr>\n",
       "  </tbody>\n",
       "</table>\n",
       "</div>"
      ],
      "text/plain": [
       "                         dt\n",
       "0 2006-12-16 17:24:00+00:00\n",
       "1 2006-12-16 17:25:00+00:00\n",
       "2 2006-12-16 17:26:00+00:00\n",
       "3 2006-12-16 17:27:00+00:00\n",
       "4 2006-12-16 17:28:00+00:00"
      ]
     },
     "execution_count": 53,
     "metadata": {},
     "output_type": "execute_result"
    }
   ],
   "source": [
    "sql_df = load_data(\"\"\"\n",
    "SELECT \n",
    "    TO_TIMESTAMP(CONCAT(Date,' ',Time),'DD-MM-YYYY HH24:MI:SS') as dt,\n",
    "    Global_active_power as global_active_power,\n",
    "    Global_reactive_power as global_reactive_power,\n",
    "    Voltage as voltage,\n",
    "    Global_intensity as current,\n",
    "    Sub_metering_1 as sub_metering_1 \n",
    "    Sub_metering_2\n",
    "     Sub_metering_3\n",
    "FROM raw.individual_household_power_consumption\n",
    "LIMIT 10;\n",
    "\"\"\")\n",
    "sql_df.head()"
   ]
  },
  {
   "cell_type": "code",
   "execution_count": 55,
   "metadata": {},
   "outputs": [
    {
     "data": {
      "text/plain": [
       "array([[Timestamp('2006-12-16 17:24:00+0000', tz='UTC')],\n",
       "       [Timestamp('2006-12-16 17:25:00+0000', tz='UTC')],\n",
       "       [Timestamp('2006-12-16 17:26:00+0000', tz='UTC')],\n",
       "       [Timestamp('2006-12-16 17:27:00+0000', tz='UTC')],\n",
       "       [Timestamp('2006-12-16 17:28:00+0000', tz='UTC')],\n",
       "       [Timestamp('2006-12-16 17:29:00+0000', tz='UTC')],\n",
       "       [Timestamp('2006-12-16 17:30:00+0000', tz='UTC')],\n",
       "       [Timestamp('2006-12-16 17:31:00+0000', tz='UTC')],\n",
       "       [Timestamp('2006-12-16 17:32:00+0000', tz='UTC')],\n",
       "       [Timestamp('2006-12-16 17:33:00+0000', tz='UTC')]], dtype=object)"
      ]
     },
     "execution_count": 55,
     "metadata": {},
     "output_type": "execute_result"
    }
   ],
   "source": [
    "sql_df.values"
   ]
  }
 ],
 "metadata": {
  "kernelspec": {
   "display_name": "Python 3",
   "language": "python",
   "name": "python3"
  },
  "language_info": {
   "codemirror_mode": {
    "name": "ipython",
    "version": 3
   },
   "file_extension": ".py",
   "mimetype": "text/x-python",
   "name": "python",
   "nbconvert_exporter": "python",
   "pygments_lexer": "ipython3",
   "version": "3.7.3"
  }
 },
 "nbformat": 4,
 "nbformat_minor": 2
}
