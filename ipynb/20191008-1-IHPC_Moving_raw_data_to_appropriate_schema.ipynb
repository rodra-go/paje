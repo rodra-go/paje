{
 "cells": [
  {
   "cell_type": "code",
   "execution_count": 1,
   "metadata": {},
   "outputs": [],
   "source": [
    "from os import chdir\n",
    "chdir('/home/jovyan')"
   ]
  },
  {
   "cell_type": "code",
   "execution_count": 2,
   "metadata": {},
   "outputs": [],
   "source": [
    "import pandas as pd\n",
    "from lib import postgres as pg"
   ]
  },
  {
   "cell_type": "markdown",
   "metadata": {},
   "source": [
    "# 1. How many rows with missing data?"
   ]
  },
  {
   "cell_type": "code",
   "execution_count": 3,
   "metadata": {},
   "outputs": [
    {
     "data": {
      "text/html": [
       "<div>\n",
       "<style scoped>\n",
       "    .dataframe tbody tr th:only-of-type {\n",
       "        vertical-align: middle;\n",
       "    }\n",
       "\n",
       "    .dataframe tbody tr th {\n",
       "        vertical-align: top;\n",
       "    }\n",
       "\n",
       "    .dataframe thead th {\n",
       "        text-align: right;\n",
       "    }\n",
       "</style>\n",
       "<table border=\"1\" class=\"dataframe\">\n",
       "  <thead>\n",
       "    <tr style=\"text-align: right;\">\n",
       "      <th></th>\n",
       "      <th>rows_with_missing_data</th>\n",
       "    </tr>\n",
       "  </thead>\n",
       "  <tbody>\n",
       "    <tr>\n",
       "      <td>0</td>\n",
       "      <td>25979</td>\n",
       "    </tr>\n",
       "  </tbody>\n",
       "</table>\n",
       "</div>"
      ],
      "text/plain": [
       "   rows_with_missing_data\n",
       "0                   25979"
      ]
     },
     "execution_count": 3,
     "metadata": {},
     "output_type": "execute_result"
    }
   ],
   "source": [
    "sql_df = pg.load_query_to_df(\"\"\"\n",
    "SELECT count(*) as rows_with_missing_data FROM\n",
    "(\n",
    "SELECT \n",
    "    TO_TIMESTAMP(CONCAT(Date,' ',Time),'DD-MM-YYYY HH24:MI:SS') as dt,\n",
    "    CASE WHEN Global_active_power = '?' THEN null ELSE CAST(Global_active_power AS NUMERIC) END as global_active_power,\n",
    "    CASE WHEN Global_reactive_power = '?' THEN null ELSE  CAST(Global_reactive_power AS NUMERIC) END as global_reactive_power,\n",
    "    CASE WHEN Voltage = '?' THEN null ELSE  CAST(Voltage AS NUMERIC) END as voltage,\n",
    "    CASE WHEN Global_intensity = '?' THEN null ELSE  CAST(Global_intensity AS NUMERIC) END as current,\n",
    "    CASE WHEN Sub_metering_1 = '?' THEN null ELSE  CAST(Sub_metering_1 AS NUMERIC) END as sub_metering_1, \n",
    "    CASE WHEN Sub_metering_2 = '?' THEN null ELSE  CAST(Sub_metering_2 AS NUMERIC) END as sub_metering_2,\n",
    "    CASE WHEN Sub_metering_3 = '?' THEN null ELSE  CAST(Sub_metering_3 AS NUMERIC) END as sub_metering_3\n",
    "FROM raw.individual_household_power_consumption\n",
    ") Z\n",
    "WHERE Z.global_active_power is null\n",
    "LIMIT 10;\n",
    "\"\"\")\n",
    "sql_df.head()"
   ]
  },
  {
   "cell_type": "markdown",
   "metadata": {},
   "source": [
    "# 2. How many dozens with missing timesteps?"
   ]
  },
  {
   "cell_type": "code",
   "execution_count": 4,
   "metadata": {},
   "outputs": [
    {
     "data": {
      "text/html": [
       "<div>\n",
       "<style scoped>\n",
       "    .dataframe tbody tr th:only-of-type {\n",
       "        vertical-align: middle;\n",
       "    }\n",
       "\n",
       "    .dataframe tbody tr th {\n",
       "        vertical-align: top;\n",
       "    }\n",
       "\n",
       "    .dataframe thead th {\n",
       "        text-align: right;\n",
       "    }\n",
       "</style>\n",
       "<table border=\"1\" class=\"dataframe\">\n",
       "  <thead>\n",
       "    <tr style=\"text-align: right;\">\n",
       "      <th></th>\n",
       "      <th>dozens_with_missing_timesteps</th>\n",
       "    </tr>\n",
       "  </thead>\n",
       "  <tbody>\n",
       "    <tr>\n",
       "      <td>0</td>\n",
       "      <td>2</td>\n",
       "    </tr>\n",
       "  </tbody>\n",
       "</table>\n",
       "</div>"
      ],
      "text/plain": [
       "   dozens_with_missing_timesteps\n",
       "0                              2"
      ]
     },
     "execution_count": 4,
     "metadata": {},
     "output_type": "execute_result"
    }
   ],
   "source": [
    "sql_df = pg.load_query_to_df(\"\"\"\n",
    "SELECT count(*) as dozens_with_missing_timesteps FROM\n",
    "(\n",
    "SELECT \n",
    "    DATE(TO_TIMESTAMP(CONCAT(Date,' ',Time),'DD-MM-YYYY HH24:MI:SS')) as date,\n",
    "    EXTRACT(HOUR FROM TO_TIMESTAMP(CONCAT(Date,' ',Time),'DD-MM-YYYY HH24:MI:SS')) as hour,\n",
    "    -- EXTRACT(MINUTES FROM TO_TIMESTAMP(CONCAT(Date,' ',Time),'DD-MM-YYYY HH24:MI:SS')) as minute,\n",
    "    FLOOR(EXTRACT(MINUTES FROM TO_TIMESTAMP(CONCAT(Date,' ',Time),'DD-MM-YYYY HH24:MI:SS'))/10) as m,\n",
    "    count(*) as count\n",
    "FROM raw.individual_household_power_consumption\n",
    "GROUP BY 1,2,3\n",
    "ORDER BY 1,2,3\n",
    ") Z\n",
    "WHERE count != 10\n",
    "LIMIT 10;\n",
    "\"\"\")\n",
    "sql_df.head()"
   ]
  },
  {
   "cell_type": "markdown",
   "metadata": {},
   "source": [
    "# 3. Move raw data to appropriate schema"
   ]
  },
  {
   "cell_type": "code",
   "execution_count": 5,
   "metadata": {},
   "outputs": [
    {
     "data": {
      "text/html": [
       "<div>\n",
       "<style scoped>\n",
       "    .dataframe tbody tr th:only-of-type {\n",
       "        vertical-align: middle;\n",
       "    }\n",
       "\n",
       "    .dataframe tbody tr th {\n",
       "        vertical-align: top;\n",
       "    }\n",
       "\n",
       "    .dataframe thead th {\n",
       "        text-align: right;\n",
       "    }\n",
       "</style>\n",
       "<table border=\"1\" class=\"dataframe\">\n",
       "  <thead>\n",
       "    <tr style=\"text-align: right;\">\n",
       "      <th></th>\n",
       "      <th>datetime</th>\n",
       "      <th>global_active_power</th>\n",
       "      <th>global_reactive_power</th>\n",
       "      <th>voltage</th>\n",
       "      <th>current</th>\n",
       "      <th>sub_metering_1</th>\n",
       "      <th>sub_metering_2</th>\n",
       "      <th>sub_metering_3</th>\n",
       "    </tr>\n",
       "  </thead>\n",
       "  <tbody>\n",
       "    <tr>\n",
       "      <td>0</td>\n",
       "      <td>2006-12-16 17:24:00+00:00</td>\n",
       "      <td>4.216</td>\n",
       "      <td>0.418</td>\n",
       "      <td>234.84</td>\n",
       "      <td>18.4</td>\n",
       "      <td>0.0</td>\n",
       "      <td>1.0</td>\n",
       "      <td>17.0</td>\n",
       "    </tr>\n",
       "    <tr>\n",
       "      <td>1</td>\n",
       "      <td>2006-12-16 17:25:00+00:00</td>\n",
       "      <td>5.360</td>\n",
       "      <td>0.436</td>\n",
       "      <td>233.63</td>\n",
       "      <td>23.0</td>\n",
       "      <td>0.0</td>\n",
       "      <td>1.0</td>\n",
       "      <td>16.0</td>\n",
       "    </tr>\n",
       "    <tr>\n",
       "      <td>2</td>\n",
       "      <td>2006-12-16 17:26:00+00:00</td>\n",
       "      <td>5.374</td>\n",
       "      <td>0.498</td>\n",
       "      <td>233.29</td>\n",
       "      <td>23.0</td>\n",
       "      <td>0.0</td>\n",
       "      <td>2.0</td>\n",
       "      <td>17.0</td>\n",
       "    </tr>\n",
       "    <tr>\n",
       "      <td>3</td>\n",
       "      <td>2006-12-16 17:27:00+00:00</td>\n",
       "      <td>5.388</td>\n",
       "      <td>0.502</td>\n",
       "      <td>233.74</td>\n",
       "      <td>23.0</td>\n",
       "      <td>0.0</td>\n",
       "      <td>1.0</td>\n",
       "      <td>17.0</td>\n",
       "    </tr>\n",
       "    <tr>\n",
       "      <td>4</td>\n",
       "      <td>2006-12-16 17:28:00+00:00</td>\n",
       "      <td>3.666</td>\n",
       "      <td>0.528</td>\n",
       "      <td>235.68</td>\n",
       "      <td>15.8</td>\n",
       "      <td>0.0</td>\n",
       "      <td>1.0</td>\n",
       "      <td>17.0</td>\n",
       "    </tr>\n",
       "  </tbody>\n",
       "</table>\n",
       "</div>"
      ],
      "text/plain": [
       "                   datetime  global_active_power  global_reactive_power  \\\n",
       "0 2006-12-16 17:24:00+00:00                4.216                  0.418   \n",
       "1 2006-12-16 17:25:00+00:00                5.360                  0.436   \n",
       "2 2006-12-16 17:26:00+00:00                5.374                  0.498   \n",
       "3 2006-12-16 17:27:00+00:00                5.388                  0.502   \n",
       "4 2006-12-16 17:28:00+00:00                3.666                  0.528   \n",
       "\n",
       "   voltage  current  sub_metering_1  sub_metering_2  sub_metering_3  \n",
       "0   234.84     18.4             0.0             1.0            17.0  \n",
       "1   233.63     23.0             0.0             1.0            16.0  \n",
       "2   233.29     23.0             0.0             2.0            17.0  \n",
       "3   233.74     23.0             0.0             1.0            17.0  \n",
       "4   235.68     15.8             0.0             1.0            17.0  "
      ]
     },
     "execution_count": 5,
     "metadata": {},
     "output_type": "execute_result"
    }
   ],
   "source": [
    "sql_df = pg.load_query_to_df(\"\"\"\n",
    "SELECT main.* FROM\n",
    "(\n",
    "SELECT \n",
    "    TO_TIMESTAMP(CONCAT(Date,' ',Time),'DD-MM-YYYY HH24:MI:SS') as datetime,\n",
    "    CASE WHEN Global_active_power = '?' THEN null ELSE CAST(Global_active_power AS NUMERIC) END as global_active_power,\n",
    "    CASE WHEN Global_reactive_power = '?' THEN null ELSE  CAST(Global_reactive_power AS NUMERIC) END as global_reactive_power,\n",
    "    CASE WHEN Voltage = '?' THEN null ELSE  CAST(Voltage AS NUMERIC) END as voltage,\n",
    "    CASE WHEN Global_intensity = '?' THEN null ELSE  CAST(Global_intensity AS NUMERIC) END as current,\n",
    "    CASE WHEN Sub_metering_1 = '?' THEN null ELSE  CAST(Sub_metering_1 AS NUMERIC) END as sub_metering_1, \n",
    "    CASE WHEN Sub_metering_2 = '?' THEN null ELSE  CAST(Sub_metering_2 AS NUMERIC) END as sub_metering_2,\n",
    "    CASE WHEN Sub_metering_3 = '?' THEN null ELSE  CAST(Sub_metering_3 AS NUMERIC) END as sub_metering_3\n",
    "FROM raw.individual_household_power_consumption\n",
    ") main\n",
    "ORDER BY 1 ASC\n",
    "LIMIT 10;\n",
    "\"\"\")\n",
    "sql_df.head()"
   ]
  },
  {
   "cell_type": "code",
   "execution_count": 6,
   "metadata": {},
   "outputs": [
    {
     "data": {
      "text/plain": [
       "datetime                 datetime64[ns, UTC]\n",
       "global_active_power                  float64\n",
       "global_reactive_power                float64\n",
       "voltage                              float64\n",
       "current                              float64\n",
       "sub_metering_1                       float64\n",
       "sub_metering_2                       float64\n",
       "sub_metering_3                       float64\n",
       "dtype: object"
      ]
     },
     "execution_count": 6,
     "metadata": {},
     "output_type": "execute_result"
    }
   ],
   "source": [
    "sql_df.dtypes"
   ]
  },
  {
   "cell_type": "markdown",
   "metadata": {},
   "source": [
    "CREATE TABLE statement:\n",
    "\n",
    "`\n",
    "CREATE SCHEMA staging;\n",
    "CREATE TABLE staging.individual_household_power_consumption (\n",
    "    _id SERIAL PRIMARY KEY,\n",
    "    datetime TIMESTAMP,\n",
    "    global_active_power FLOAT,\n",
    "    global_reactive_power FLOAT,\n",
    "    voltage FLOAT,\n",
    "    current FLOAT,\n",
    "    sub_metering_1 FLOAT,\n",
    "    sub_metering_2 FLOAT,\n",
    "    sub_metering_3 FLOAT\n",
    ");`"
   ]
  },
  {
   "cell_type": "code",
   "execution_count": 7,
   "metadata": {},
   "outputs": [
    {
     "name": "stdout",
     "output_type": "stream",
     "text": [
      "None\n"
     ]
    }
   ],
   "source": [
    "cmd = \"\"\"\n",
    "CREATE SCHEMA staging;\n",
    "CREATE TABLE staging.individual_household_power_consumption (\n",
    "    _id SERIAL PRIMARY KEY,\n",
    "    datetime TIMESTAMP,\n",
    "    global_active_power FLOAT,\n",
    "    global_reactive_power FLOAT,\n",
    "    voltage FLOAT,\n",
    "    current FLOAT,\n",
    "    sub_metering_1 FLOAT,\n",
    "    sub_metering_2 FLOAT,\n",
    "    sub_metering_3 FLOAT\n",
    ");\n",
    "\"\"\"\n",
    "\n",
    "pg.run_command(cmd)"
   ]
  },
  {
   "cell_type": "code",
   "execution_count": 8,
   "metadata": {},
   "outputs": [
    {
     "data": {
      "text/html": [
       "<div>\n",
       "<style scoped>\n",
       "    .dataframe tbody tr th:only-of-type {\n",
       "        vertical-align: middle;\n",
       "    }\n",
       "\n",
       "    .dataframe tbody tr th {\n",
       "        vertical-align: top;\n",
       "    }\n",
       "\n",
       "    .dataframe thead th {\n",
       "        text-align: right;\n",
       "    }\n",
       "</style>\n",
       "<table border=\"1\" class=\"dataframe\">\n",
       "  <thead>\n",
       "    <tr style=\"text-align: right;\">\n",
       "      <th></th>\n",
       "      <th>datetime</th>\n",
       "      <th>global_active_power</th>\n",
       "      <th>global_reactive_power</th>\n",
       "      <th>voltage</th>\n",
       "      <th>current</th>\n",
       "      <th>sub_metering_1</th>\n",
       "      <th>sub_metering_2</th>\n",
       "      <th>sub_metering_3</th>\n",
       "    </tr>\n",
       "  </thead>\n",
       "  <tbody>\n",
       "    <tr>\n",
       "      <td>0</td>\n",
       "      <td>2006-12-16 17:24:00+00:00</td>\n",
       "      <td>4.216</td>\n",
       "      <td>0.418</td>\n",
       "      <td>234.84</td>\n",
       "      <td>18.4</td>\n",
       "      <td>0.0</td>\n",
       "      <td>1.0</td>\n",
       "      <td>17.0</td>\n",
       "    </tr>\n",
       "    <tr>\n",
       "      <td>1</td>\n",
       "      <td>2006-12-16 17:25:00+00:00</td>\n",
       "      <td>5.360</td>\n",
       "      <td>0.436</td>\n",
       "      <td>233.63</td>\n",
       "      <td>23.0</td>\n",
       "      <td>0.0</td>\n",
       "      <td>1.0</td>\n",
       "      <td>16.0</td>\n",
       "    </tr>\n",
       "    <tr>\n",
       "      <td>2</td>\n",
       "      <td>2006-12-16 17:26:00+00:00</td>\n",
       "      <td>5.374</td>\n",
       "      <td>0.498</td>\n",
       "      <td>233.29</td>\n",
       "      <td>23.0</td>\n",
       "      <td>0.0</td>\n",
       "      <td>2.0</td>\n",
       "      <td>17.0</td>\n",
       "    </tr>\n",
       "    <tr>\n",
       "      <td>3</td>\n",
       "      <td>2006-12-16 17:27:00+00:00</td>\n",
       "      <td>5.388</td>\n",
       "      <td>0.502</td>\n",
       "      <td>233.74</td>\n",
       "      <td>23.0</td>\n",
       "      <td>0.0</td>\n",
       "      <td>1.0</td>\n",
       "      <td>17.0</td>\n",
       "    </tr>\n",
       "    <tr>\n",
       "      <td>4</td>\n",
       "      <td>2006-12-16 17:28:00+00:00</td>\n",
       "      <td>3.666</td>\n",
       "      <td>0.528</td>\n",
       "      <td>235.68</td>\n",
       "      <td>15.8</td>\n",
       "      <td>0.0</td>\n",
       "      <td>1.0</td>\n",
       "      <td>17.0</td>\n",
       "    </tr>\n",
       "  </tbody>\n",
       "</table>\n",
       "</div>"
      ],
      "text/plain": [
       "                   datetime  global_active_power  global_reactive_power  \\\n",
       "0 2006-12-16 17:24:00+00:00                4.216                  0.418   \n",
       "1 2006-12-16 17:25:00+00:00                5.360                  0.436   \n",
       "2 2006-12-16 17:26:00+00:00                5.374                  0.498   \n",
       "3 2006-12-16 17:27:00+00:00                5.388                  0.502   \n",
       "4 2006-12-16 17:28:00+00:00                3.666                  0.528   \n",
       "\n",
       "   voltage  current  sub_metering_1  sub_metering_2  sub_metering_3  \n",
       "0   234.84     18.4             0.0             1.0            17.0  \n",
       "1   233.63     23.0             0.0             1.0            16.0  \n",
       "2   233.29     23.0             0.0             2.0            17.0  \n",
       "3   233.74     23.0             0.0             1.0            17.0  \n",
       "4   235.68     15.8             0.0             1.0            17.0  "
      ]
     },
     "execution_count": 8,
     "metadata": {},
     "output_type": "execute_result"
    }
   ],
   "source": [
    "data = pg.load_query_to_df(\"\"\"\n",
    "SELECT main.* FROM\n",
    "(\n",
    "SELECT \n",
    "    TO_TIMESTAMP(CONCAT(Date,' ',Time),'DD-MM-YYYY HH24:MI:SS') as datetime,\n",
    "    CASE WHEN Global_active_power = '?' THEN null ELSE CAST(Global_active_power AS NUMERIC) END as global_active_power,\n",
    "    CASE WHEN Global_reactive_power = '?' THEN null ELSE  CAST(Global_reactive_power AS NUMERIC) END as global_reactive_power,\n",
    "    CASE WHEN Voltage = '?' THEN null ELSE  CAST(Voltage AS NUMERIC) END as voltage,\n",
    "    CASE WHEN Global_intensity = '?' THEN null ELSE  CAST(Global_intensity AS NUMERIC) END as current,\n",
    "    CASE WHEN Sub_metering_1 = '?' THEN null ELSE  CAST(Sub_metering_1 AS NUMERIC) END as sub_metering_1, \n",
    "    CASE WHEN Sub_metering_2 = '?' THEN null ELSE  CAST(Sub_metering_2 AS NUMERIC) END as sub_metering_2,\n",
    "    CASE WHEN Sub_metering_3 = '?' THEN null ELSE  CAST(Sub_metering_3 AS NUMERIC) END as sub_metering_3\n",
    "FROM raw.individual_household_power_consumption\n",
    ") main\n",
    "ORDER BY 1 ASC;\n",
    "\"\"\")\n",
    "data.head()"
   ]
  },
  {
   "cell_type": "code",
   "execution_count": 9,
   "metadata": {},
   "outputs": [
    {
     "name": "stdout",
     "output_type": "stream",
     "text": [
      "Connecting to Database\n",
      "Starting DataFrame CSV export...\n",
      "CSV File has been created\n",
      "Truncated individual_household_power_consumption\n",
      "Loaded data into individual_household_power_consumption\n",
      "DB connection closed.\n",
      "Removing temporary files...\n",
      "Done.\n",
      "Elapsed time: 38.70808172225952 seconds\n"
     ]
    }
   ],
   "source": [
    "pg.bulk_load_df(data, 'staging', 'individual_household_power_consumption')"
   ]
  }
 ],
 "metadata": {
  "kernelspec": {
   "display_name": "Python 3",
   "language": "python",
   "name": "python3"
  },
  "language_info": {
   "codemirror_mode": {
    "name": "ipython",
    "version": 3
   },
   "file_extension": ".py",
   "mimetype": "text/x-python",
   "name": "python",
   "nbconvert_exporter": "python",
   "pygments_lexer": "ipython3",
   "version": "3.7.3"
  }
 },
 "nbformat": 4,
 "nbformat_minor": 2
}
