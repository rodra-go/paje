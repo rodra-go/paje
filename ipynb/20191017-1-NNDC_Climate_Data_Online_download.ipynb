{
 "cells": [
  {
   "cell_type": "markdown",
   "metadata": {},
   "source": [
    "# 1. [NNDC_Climate_Data_Online](https://www7.ncdc.noaa.gov/CDO/cdo)\n",
    "\n",
    "### Abstract\n",
    "\n",
    "The power consumption behavior for a household is influenced by the weather, in a way that weather signals such as temperature, dew point and pressure might be useful information to model the forecasting. The [**NNDC Climate Data Online**](https://www7.ncdc.noaa.gov/CDO/cdo) is an open platform which provides weather data from many places across the globe. The **IHPC** dataset provides data from a household located in [Sceaux](https://en.wikipedia.org/wiki/Sceaux,_Hauts-de-Seine), a commune in the southern suburbs of Paris, France. There is no data from Sceaux in the NNDC CDO plaform, but there is data available from a close by region, in [Mountsouris, Paris](https://en.wikipedia.org/wiki/Parc_Montsouris). The station is approximately [5.7km from Sceaux](https://www.google.com/maps/dir/Sceaux,+Fran%C3%A7a/48.817,2.333/@48.8185508,2.3069516,14z/data=!4m9!4m8!1m5!1m1!1s0x47e670b58c33d677:0x8f061496b1636438!2m2!1d2.295092!2d48.778016!1m0!3e2).\n",
    "\n",
    "### Download\n",
    "\n",
    "In the NNDC CDO platform it's possible to select the country, weather station and the measurements to compose your dataset. The data is then made available in a FTP server for 7 days from where it is possible to download the data.\n",
    "\n",
    "Link | Description\n",
    ":---: | :---\n",
    "http://www.ncdc.noaa.gov/orders/isd/8849028031411dat.txt | DS3505 - Surface Data Hourly Global -  Data File (140176241 bytes)\n",
    "http://www.ncdc.noaa.gov/orders/isd/8849028031411stn.txt | DS3505 - Surface Data Hourly Global -  Stations included in your search ( bytes)\n",
    "http://www.ncdc.noaa.gov/orders/isd/8849028031411inv.txt | DS3505 - Surface Data Hourly Global -  Data inventory for your search ( bytes)\n",
    "http://www.ncdc.noaa.gov/orders/isd/8849028031411doc.txt | DS3505 - Surface Data Hourly Global - format documentation (467837 bytes)\n",
    "\n",
    "### Data inventory for the search\n",
    "`\n",
    "071560 99999 PARIS-MONTSOURIS               2006  725  651  713  703  739  714  714  599  612  738  686  732\n",
    "071560 99999 PARIS-MONTSOURIS               2007  728  660  720  689  740  711  741  723  705  662  707  743\n",
    "071560 99999 PARIS-MONTSOURIS               2008  740  683  740  714  738  713  725  728  706  692  706  689\n",
    "071560 99999 PARIS-MONTSOURIS               2009  718  668  703  718  742  715  743  729  695  740  716  717\n",
    "071560 99999 PARIS-MONTSOURIS               2010  743  669  730  638  652  713  724  744  716  718  692  718\n",
    "`\n",
    "\n",
    "\n",
    "`\n",
    "Total Surface Hourly Observations Available: 42490\n",
    "Total Station-Years: 5\n",
    "`"
   ]
  },
  {
   "cell_type": "markdown",
   "metadata": {},
   "source": [
    "## 1.1 Download"
   ]
  },
  {
   "cell_type": "code",
   "execution_count": null,
   "metadata": {},
   "outputs": [],
   "source": [
    "!wget -P data/ \\\n",
    "http://www.ncdc.noaa.gov/orders/isd/8849028031411dat.txt"
   ]
  },
  {
   "cell_type": "markdown",
   "metadata": {},
   "source": [
    "## 1.2. Check Dataset Schema"
   ]
  },
  {
   "cell_type": "markdown",
   "metadata": {},
   "source": [
    "The head of the file isn't comma separated, therefore it's needed to remove the first 2 lines of the document to be possible to load it to pandas."
   ]
  },
  {
   "cell_type": "code",
   "execution_count": null,
   "metadata": {},
   "outputs": [],
   "source": [
    "# Print first line to check\n",
    "!head -1 data/8849028031411dat.txt"
   ]
  },
  {
   "cell_type": "code",
   "execution_count": null,
   "metadata": {},
   "outputs": [],
   "source": [
    "# Remove lines 1 and 2 from the original document and saves to a new file\n",
    "!sed '1,2 d' data/8849028031411dat.txt > data/nndc_cdo.txt"
   ]
  },
  {
   "cell_type": "code",
   "execution_count": null,
   "metadata": {},
   "outputs": [],
   "source": [
    "import pandas as pd\n",
    "\n",
    "dataset = pd.read_csv('data/nndc_cdo.txt',\n",
    "                      sep=\",\")"
   ]
  },
  {
   "cell_type": "code",
   "execution_count": null,
   "metadata": {},
   "outputs": [],
   "source": [
    "dataset.head()"
   ]
  },
  {
   "cell_type": "markdown",
   "metadata": {},
   "source": [
    "## 1.3. Selecting features\n",
    "\n",
    "The features to be used from the NNDC CDO data are:\n",
    "- **Date** *(Column 3)*: Date in the format YYYYMMDD\n",
    "- **HrMn** *(Column 4)*: Hour and minute in the format HHMM\n",
    "- **Temp** *(Column 21)*: Temperature in °C\n",
    "- **Dewpt** *(Column 23)*: Dew Point in °C\n",
    "\n"
   ]
  },
  {
   "cell_type": "code",
   "execution_count": null,
   "metadata": {},
   "outputs": [],
   "source": [
    "import pandas as pd\n",
    "\n",
    "dataset = pd.read_csv('data/nndc_cdo.txt',\n",
    "                      sep=\",\",\n",
    "                      header=None, \n",
    "                      usecols=[3,4,21,23],\n",
    "                      names=['Date','HrMn','Temp','Dewpt'],\n",
    "                      dtype=object)"
   ]
  },
  {
   "cell_type": "code",
   "execution_count": null,
   "metadata": {},
   "outputs": [],
   "source": [
    "dataset.head()"
   ]
  },
  {
   "cell_type": "markdown",
   "metadata": {},
   "source": [
    "## 1.4. Load data to postgres"
   ]
  },
  {
   "cell_type": "markdown",
   "metadata": {},
   "source": [
    "CREATE TABLE statement:\n",
    "\n",
    "`\n",
    "CREATE TABLE raw.nndc_cdo (\n",
    "    _id SERIAL PRIMARY KEY,\n",
    "    Date TEXT,\n",
    "    HrMn TEXT,\n",
    "    Temp TEXT,\n",
    "    Dewpt TEXT\n",
    ");`"
   ]
  },
  {
   "cell_type": "code",
   "execution_count": 1,
   "metadata": {},
   "outputs": [],
   "source": [
    "from os import chdir\n",
    "chdir('/home/jovyan')"
   ]
  },
  {
   "cell_type": "code",
   "execution_count": 2,
   "metadata": {},
   "outputs": [],
   "source": [
    "from lib import postgres as pg"
   ]
  },
  {
   "cell_type": "code",
   "execution_count": null,
   "metadata": {},
   "outputs": [],
   "source": [
    "cmd = \"\"\"\n",
    "CREATE TABLE raw.nndc_cdo (\n",
    "    _id SERIAL PRIMARY KEY,\n",
    "    date TEXT,\n",
    "    hrmn TEXT,\n",
    "    temp TEXT,\n",
    "    dewpt TEXT\n",
    ");\n",
    "\"\"\"\n",
    "pg.run_command(cmd)"
   ]
  },
  {
   "cell_type": "code",
   "execution_count": null,
   "metadata": {},
   "outputs": [],
   "source": [
    "pg.bulk_load_df(dataset, 'raw', 'nndc_cdo')"
   ]
  },
  {
   "cell_type": "code",
   "execution_count": null,
   "metadata": {},
   "outputs": [],
   "source": [
    "check = pg.load_query_to_df(\"\"\"\n",
    "SELECT main.* FROM\n",
    "(\n",
    "SELECT\n",
    "    *\n",
    "FROM \n",
    "    raw.nndc_cdo\n",
    ") main\n",
    "ORDER BY 1 ASC\n",
    "LIMIT 5;\n",
    "\"\"\")\n",
    "check.head()"
   ]
  },
  {
   "cell_type": "markdown",
   "metadata": {},
   "source": [
    "## 1.5. Secting time range"
   ]
  },
  {
   "cell_type": "code",
   "execution_count": null,
   "metadata": {},
   "outputs": [],
   "source": [
    "check = pg.load_query_to_df(\"\"\"\n",
    "SELECT main.* FROM\n",
    "(\n",
    "SELECT\n",
    "    max(datetime) as max_datetime,\n",
    "    min(datetime) as min_datetime\n",
    "FROM \n",
    "    clean.individual_household_power_consumption_h\n",
    ") main\n",
    "ORDER BY 1 ASC\n",
    "LIMIT 5;\n",
    "\"\"\")\n",
    "check.head()"
   ]
  },
  {
   "cell_type": "code",
   "execution_count": null,
   "metadata": {},
   "outputs": [],
   "source": [
    "features = pg.load_query_to_df(\"\"\"\n",
    "SELECT\n",
    "    clean._id as _id,\n",
    "    temp.datetime as datetime,\n",
    "    temp.temperature as temperature,\n",
    "    temp.dew_point as dew_point\n",
    "FROM\n",
    "(\n",
    "SELECT\n",
    "    TO_TIMESTAMP(CONCAT(date,' ',hrmn),'YYYYMMDD HH24MISS') as datetime,\n",
    "    CAST(temp AS FLOAT) as temperature,\n",
    "    CAST(dewpt AS FLOAT) as dew_point\n",
    "FROM \n",
    "    raw.nndc_cdo\n",
    ") temp\n",
    "JOIN\n",
    "    clean.individual_household_power_consumption_h clean\n",
    "ON\n",
    "    temp.datetime = clean.datetime\n",
    "WHERE temp.datetime between '2006-12-16 17:00:00' AND '2010-11-26 21:00:00'\n",
    "ORDER BY 1 ASC\n",
    "LIMIT 5;\n",
    "\"\"\")\n",
    "features.head()"
   ]
  },
  {
   "cell_type": "markdown",
   "metadata": {},
   "source": [
    "## 1.6. Load dataset to features schema\n",
    "\n",
    "CREATE TABLE statement:\n",
    "\n",
    "`\n",
    "CREATE TABLE features.IHCPh_weather (\n",
    "    _id INT PRIMARY KEY,\n",
    "    datetime TIMESTAMP,\n",
    "    Temp FLOAT,\n",
    "    Dewpt FLOAT\n",
    ");`"
   ]
  },
  {
   "cell_type": "code",
   "execution_count": 6,
   "metadata": {},
   "outputs": [
    {
     "name": "stdout",
     "output_type": "stream",
     "text": [
      "None\n"
     ]
    }
   ],
   "source": [
    "cmd = \"\"\"\n",
    "CREATE TABLE features.IHCPh_weather (\n",
    "    _id INT PRIMARY KEY,\n",
    "    datetime TIMESTAMP,\n",
    "    temperature FLOAT,\n",
    "    dew_point FLOAT\n",
    ");\n",
    "\"\"\"\n",
    "pg.run_command(cmd)"
   ]
  },
  {
   "cell_type": "code",
   "execution_count": 3,
   "metadata": {},
   "outputs": [
    {
     "data": {
      "text/html": [
       "<div>\n",
       "<style scoped>\n",
       "    .dataframe tbody tr th:only-of-type {\n",
       "        vertical-align: middle;\n",
       "    }\n",
       "\n",
       "    .dataframe tbody tr th {\n",
       "        vertical-align: top;\n",
       "    }\n",
       "\n",
       "    .dataframe thead th {\n",
       "        text-align: right;\n",
       "    }\n",
       "</style>\n",
       "<table border=\"1\" class=\"dataframe\">\n",
       "  <thead>\n",
       "    <tr style=\"text-align: right;\">\n",
       "      <th></th>\n",
       "      <th>_id</th>\n",
       "      <th>datetime</th>\n",
       "      <th>temperature</th>\n",
       "      <th>dew_point</th>\n",
       "    </tr>\n",
       "  </thead>\n",
       "  <tbody>\n",
       "    <tr>\n",
       "      <td>0</td>\n",
       "      <td>1</td>\n",
       "      <td>2006-12-16 17:00:00+00:00</td>\n",
       "      <td>7.0</td>\n",
       "      <td>4.8</td>\n",
       "    </tr>\n",
       "    <tr>\n",
       "      <td>1</td>\n",
       "      <td>2</td>\n",
       "      <td>2006-12-16 18:00:00+00:00</td>\n",
       "      <td>6.9</td>\n",
       "      <td>4.2</td>\n",
       "    </tr>\n",
       "    <tr>\n",
       "      <td>2</td>\n",
       "      <td>3</td>\n",
       "      <td>2006-12-16 19:00:00+00:00</td>\n",
       "      <td>6.4</td>\n",
       "      <td>3.7</td>\n",
       "    </tr>\n",
       "    <tr>\n",
       "      <td>3</td>\n",
       "      <td>4</td>\n",
       "      <td>2006-12-16 20:00:00+00:00</td>\n",
       "      <td>6.0</td>\n",
       "      <td>4.0</td>\n",
       "    </tr>\n",
       "    <tr>\n",
       "      <td>4</td>\n",
       "      <td>5</td>\n",
       "      <td>2006-12-16 21:00:00+00:00</td>\n",
       "      <td>5.6</td>\n",
       "      <td>3.8</td>\n",
       "    </tr>\n",
       "  </tbody>\n",
       "</table>\n",
       "</div>"
      ],
      "text/plain": [
       "   _id                  datetime  temperature  dew_point\n",
       "0    1 2006-12-16 17:00:00+00:00          7.0        4.8\n",
       "1    2 2006-12-16 18:00:00+00:00          6.9        4.2\n",
       "2    3 2006-12-16 19:00:00+00:00          6.4        3.7\n",
       "3    4 2006-12-16 20:00:00+00:00          6.0        4.0\n",
       "4    5 2006-12-16 21:00:00+00:00          5.6        3.8"
      ]
     },
     "execution_count": 3,
     "metadata": {},
     "output_type": "execute_result"
    }
   ],
   "source": [
    "features = pg.load_query_to_df(\"\"\"\n",
    "SELECT\n",
    "    clean._id as _id,\n",
    "    temp.datetime as datetime,\n",
    "    temp.temperature as temperature,\n",
    "    temp.dew_point as dew_point\n",
    "FROM\n",
    "(\n",
    "SELECT\n",
    "    TO_TIMESTAMP(CONCAT(date,' ',hrmn),'YYYYMMDD HH24MISS') as datetime,\n",
    "    CAST(temp AS FLOAT) as temperature,\n",
    "    CAST(dewpt AS FLOAT) as dew_point\n",
    "FROM \n",
    "    raw.nndc_cdo\n",
    ") temp\n",
    "JOIN\n",
    "    clean.individual_household_power_consumption_h clean\n",
    "ON\n",
    "    temp.datetime = clean.datetime\n",
    "WHERE temp.datetime between '2006-12-16 17:00:00' AND '2010-11-26 21:00:00'\n",
    "ORDER BY 1 ASC\n",
    "\"\"\")\n",
    "features.head()"
   ]
  },
  {
   "cell_type": "code",
   "execution_count": 7,
   "metadata": {},
   "outputs": [
    {
     "name": "stdout",
     "output_type": "stream",
     "text": [
      "Connecting to Database\n",
      "Starting DataFrame CSV export...\n",
      "CSV File has been created\n",
      "The table features.IHCPh_weather has been successfully truncated.\n",
      "It wasn't possible to reset serial _id.\n",
      "The data has been succesfully loaded to table features.IHCPh_weather\n",
      "DB connection closed.\n",
      "Removing temporary files...\n",
      "Done.\n",
      "Elapsed time: 0.49625515937805176 seconds\n"
     ]
    }
   ],
   "source": [
    "pg.bulk_load_df(features, 'features', 'IHCPh_weather')"
   ]
  },
  {
   "cell_type": "markdown",
   "metadata": {},
   "source": [
    "## 1.7 Dealing with missing values\n",
    "\n",
    "missing_value = 999.9"
   ]
  },
  {
   "cell_type": "code",
   "execution_count": 78,
   "metadata": {},
   "outputs": [
    {
     "data": {
      "text/plain": [
       "<matplotlib.axes._subplots.AxesSubplot at 0x7fbdac85f3c8>"
      ]
     },
     "execution_count": 78,
     "metadata": {},
     "output_type": "execute_result"
    },
    {
     "data": {
      "image/png": "[encoded data removed]",
      "text/plain": [
       "<Figure size 432x288 with 1 Axes>"
      ]
     },
     "metadata": {
      "needs_background": "light"
     },
     "output_type": "display_data"
    }
   ],
   "source": [
    "clean = pg.load_query_to_df(\"\"\"\n",
    "SELECT\n",
    "    main._id,\n",
    "    main.datetime,\n",
    "    CASE\n",
    "        WHEN main.temperature > 50 \n",
    "        THEN (future.temperature + past.temperature)/2\n",
    "        ELSE main.temperature\n",
    "    END as temperature,\n",
    "    CASE\n",
    "        WHEN main.dew_point > 50\n",
    "        THEN (past.dew_point + future.dew_point)/2\n",
    "        ELSE main.dew_point\n",
    "    END as dew_point\n",
    "FROM\n",
    "(\n",
    "    SELECT\n",
    "        present._id,\n",
    "        present.datetime,\n",
    "        CASE \n",
    "            WHEN present.temperature > 50\n",
    "            THEN (past.temperature + future.temperature)/2 \n",
    "            ELSE present.temperature \n",
    "        END as temperature,\n",
    "        CASE \n",
    "            WHEN present.dew_point > 50 \n",
    "            THEN (past.dew_point + future.dew_point)/2 \n",
    "            ELSE present.dew_point \n",
    "        END as dew_point\n",
    "    FROM \n",
    "        features.IHCPh_weather present\n",
    "    LEFT JOIN\n",
    "        features.IHCPh_weather past\n",
    "    ON\n",
    "        present._id = past._id + 1\n",
    "    LEFT JOIN\n",
    "        features.IHCPh_weather future\n",
    "    ON\n",
    "        present._id = future._id - 1\n",
    ") main\n",
    "LEFT JOIN\n",
    "    features.IHCPh_weather past\n",
    "ON\n",
    "    main._id = past._id + 48\n",
    "LEFT JOIN\n",
    "    features.IHCPh_weather future\n",
    "ON\n",
    "    main._id = future._id - 48\n",
    "ORDER BY 1 ASC\n",
    "-- LIMIT 1000\n",
    ";\n",
    "\"\"\")\n",
    "plot = clean.set_index('datetime')\n",
    "plot = plot.drop(columns=['_id'])\n",
    "plot.plot()"
   ]
  },
  {
   "cell_type": "code",
   "execution_count": 79,
   "metadata": {},
   "outputs": [
    {
     "data": {
      "text/html": [
       "<div>\n",
       "<style scoped>\n",
       "    .dataframe tbody tr th:only-of-type {\n",
       "        vertical-align: middle;\n",
       "    }\n",
       "\n",
       "    .dataframe tbody tr th {\n",
       "        vertical-align: top;\n",
       "    }\n",
       "\n",
       "    .dataframe thead th {\n",
       "        text-align: right;\n",
       "    }\n",
       "</style>\n",
       "<table border=\"1\" class=\"dataframe\">\n",
       "  <thead>\n",
       "    <tr style=\"text-align: right;\">\n",
       "      <th></th>\n",
       "      <th>_id</th>\n",
       "      <th>datetime</th>\n",
       "      <th>temperature</th>\n",
       "      <th>dew_point</th>\n",
       "    </tr>\n",
       "  </thead>\n",
       "  <tbody>\n",
       "    <tr>\n",
       "      <td>0</td>\n",
       "      <td>1</td>\n",
       "      <td>2006-12-16 17:00:00</td>\n",
       "      <td>7.0</td>\n",
       "      <td>4.8</td>\n",
       "    </tr>\n",
       "    <tr>\n",
       "      <td>1</td>\n",
       "      <td>2</td>\n",
       "      <td>2006-12-16 18:00:00</td>\n",
       "      <td>6.9</td>\n",
       "      <td>4.2</td>\n",
       "    </tr>\n",
       "    <tr>\n",
       "      <td>2</td>\n",
       "      <td>3</td>\n",
       "      <td>2006-12-16 19:00:00</td>\n",
       "      <td>6.4</td>\n",
       "      <td>3.7</td>\n",
       "    </tr>\n",
       "    <tr>\n",
       "      <td>3</td>\n",
       "      <td>4</td>\n",
       "      <td>2006-12-16 20:00:00</td>\n",
       "      <td>6.0</td>\n",
       "      <td>4.0</td>\n",
       "    </tr>\n",
       "    <tr>\n",
       "      <td>4</td>\n",
       "      <td>5</td>\n",
       "      <td>2006-12-16 21:00:00</td>\n",
       "      <td>5.6</td>\n",
       "      <td>3.8</td>\n",
       "    </tr>\n",
       "  </tbody>\n",
       "</table>\n",
       "</div>"
      ],
      "text/plain": [
       "   _id            datetime  temperature  dew_point\n",
       "0    1 2006-12-16 17:00:00          7.0        4.8\n",
       "1    2 2006-12-16 18:00:00          6.9        4.2\n",
       "2    3 2006-12-16 19:00:00          6.4        3.7\n",
       "3    4 2006-12-16 20:00:00          6.0        4.0\n",
       "4    5 2006-12-16 21:00:00          5.6        3.8"
      ]
     },
     "execution_count": 79,
     "metadata": {},
     "output_type": "execute_result"
    }
   ],
   "source": [
    "clean.head()"
   ]
  },
  {
   "cell_type": "code",
   "execution_count": 80,
   "metadata": {},
   "outputs": [
    {
     "name": "stdout",
     "output_type": "stream",
     "text": [
      "Connecting to Database\n",
      "Starting DataFrame CSV export...\n",
      "CSV File has been created\n",
      "The table features.IHCPh_weather has been successfully truncated.\n",
      "It wasn't possible to reset serial _id.\n",
      "The data has been succesfully loaded to table features.IHCPh_weather\n",
      "DB connection closed.\n",
      "Removing temporary files...\n",
      "Done.\n",
      "Elapsed time: 0.32807445526123047 seconds\n"
     ]
    }
   ],
   "source": [
    "pg.bulk_load_df(clean, 'features', 'IHCPh_weather')"
   ]
  }
 ],
 "metadata": {
  "kernelspec": {
   "display_name": "Python 3",
   "language": "python",
   "name": "python3"
  },
  "language_info": {
   "codemirror_mode": {
    "name": "ipython",
    "version": 3
   },
   "file_extension": ".py",
   "mimetype": "text/x-python",
   "name": "python",
   "nbconvert_exporter": "python",
   "pygments_lexer": "ipython3",
   "version": "3.7.3"
  }
 },
 "nbformat": 4,
 "nbformat_minor": 2
}
